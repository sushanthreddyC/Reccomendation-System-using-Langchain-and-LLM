{
 "cells": [
  {
   "cell_type": "code",
   "execution_count": 2,
   "id": "44953824-d169-45ae-8f5c-ac6924a7933b",
   "metadata": {},
   "outputs": [],
   "source": [
    "import chromadb\n",
    "from chromadb.utils import embedding_functions"
   ]
  },
  {
   "cell_type": "code",
   "execution_count": 3,
   "id": "c288b5ce-c87a-4fae-986a-d38f9cff5634",
   "metadata": {},
   "outputs": [],
   "source": [
    "chroma_client = chromadb.Client()"
   ]
  },
  {
   "cell_type": "code",
   "execution_count": 5,
   "id": "45c3391c-8fdf-447b-a037-35fe3b215925",
   "metadata": {},
   "outputs": [],
   "source": [
    "# Creating an embedding fucntion using sentence transformer\n",
    "sentence_transformer_ef = embedding_functions.SentenceTransformerEmbeddingFunction(model_name= 'all-MiniLM-L6-v2')"
   ]
  },
  {
   "cell_type": "code",
   "execution_count": 7,
   "id": "9da4231e-1eb8-4726-affe-7af9cb85b19c",
   "metadata": {},
   "outputs": [],
   "source": [
    "# Creating a collection\n",
    "collection = chroma_client.create_collection(name= \"dummy_data\")"
   ]
  },
  {
   "cell_type": "code",
   "execution_count": 9,
   "id": "18a56804-8a54-47f7-897a-25b6761a1c27",
   "metadata": {},
   "outputs": [],
   "source": [
    "# Loading document\n",
    "with open('./NLP_engineer_req.txt','r') as f:\n",
    "    data = f.read().replace('\\n','.').split('.')"
   ]
  },
  {
   "cell_type": "code",
   "execution_count": 10,
   "id": "c0e52f2f-29ea-4662-8bb6-22660c5acba5",
   "metadata": {},
   "outputs": [],
   "source": [
    "# Add Extracted sentences into chroma collection\n",
    "collection.add(\n",
    "    documents= data,\n",
    "    embeddings=sentence_transformer_ef(data),\n",
    "    ids=['id'+ str(x) for x in range(len(data))]\n",
    ")"
   ]
  },
  {
   "cell_type": "code",
   "execution_count": 11,
   "id": "2dbc1abb-68f6-4a80-b066-c77efb10f213",
   "metadata": {},
   "outputs": [
    {
     "name": "stderr",
     "output_type": "stream",
     "text": [
      "/home/schilla/.cache/chroma/onnx_models/all-MiniLM-L6-v2/onnx.tar.gz: 100%|███████████████████████████████████████████| 79.3M/79.3M [00:08<00:00, 10.2MiB/s]\n"
     ]
    }
   ],
   "source": [
    "# Query\n",
    "result = collection.query(\n",
    "    query_texts=[\"skills required for NLP engineer\"],\n",
    "    n_results=5\n",
    ")"
   ]
  },
  {
   "cell_type": "code",
   "execution_count": 13,
   "id": "dde4a25d-7dea-47f6-82ad-eee32de6d0af",
   "metadata": {},
   "outputs": [
    {
     "data": {
      "text/plain": [
       "{'ids': [['id22', 'id179', 'id0', 'id180', 'id55']],\n",
       " 'distances': [[0.11275619268417358,\n",
       "   0.2670725882053375,\n",
       "   0.31739354133605957,\n",
       "   0.33501869440078735,\n",
       "   0.40666210651397705]],\n",
       " 'metadatas': [[None, None, None, None, None]],\n",
       " 'embeddings': None,\n",
       " 'documents': [['Essential Skills of an NLP Engineer',\n",
       "   ' What skills are needed for NLP?',\n",
       "   'How to Become an NLP Engineer? Description, Skills, and Salary',\n",
       "   'Key skills needed for NLP include programming (Python, Java), understanding of machine learning and deep learning algorithms, knowledge of linguistics, proficiency with NLP libraries (e',\n",
       "   'How to Become an NLP Engineer: A Step-By-Step Guide']],\n",
       " 'uris': None,\n",
       " 'data': None}"
      ]
     },
     "execution_count": 13,
     "metadata": {},
     "output_type": "execute_result"
    }
   ],
   "source": [
    "result"
   ]
  },
  {
   "cell_type": "code",
   "execution_count": null,
   "id": "55798453-a34e-420c-83de-a2bdbcfe2485",
   "metadata": {},
   "outputs": [],
   "source": []
  }
 ],
 "metadata": {
  "kernelspec": {
   "display_name": "Python 3 (ipykernel)",
   "language": "python",
   "name": "python3"
  },
  "language_info": {
   "codemirror_mode": {
    "name": "ipython",
    "version": 3
   },
   "file_extension": ".py",
   "mimetype": "text/x-python",
   "name": "python",
   "nbconvert_exporter": "python",
   "pygments_lexer": "ipython3",
   "version": "3.10.12"
  }
 },
 "nbformat": 4,
 "nbformat_minor": 5
}
